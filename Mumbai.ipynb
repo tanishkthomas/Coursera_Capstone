{
 "cells": [
  {
   "cell_type": "markdown",
   "metadata": {},
   "source": [
    "# Capstone Project"
   ]
  },
  {
   "cell_type": "markdown",
   "metadata": {},
   "source": [
    "###### This set of code will help you figure out whether which place is crowded or empty and most ideal to start a bussiness"
   ]
  },
  {
   "cell_type": "markdown",
   "metadata": {},
   "source": [
    "Importing libraries"
   ]
  },
  {
   "cell_type": "code",
   "execution_count": 1,
   "metadata": {},
   "outputs": [
    {
     "name": "stdout",
     "output_type": "stream",
     "text": [
      "Collecting package metadata (repodata.json): ...working... done\n",
      "Solving environment: ...working... done\n",
      "\n",
      "# All requested packages already installed.\n",
      "\n"
     ]
    },
    {
     "name": "stderr",
     "output_type": "stream",
     "text": [
      "WARNING conda.base.context:use_only_tar_bz2(632): Conda is constrained to only using the old .tar.bz2 file format because you have conda-build installed, and it is <3.18.3.  Update or remove conda-build to get smaller downloads and faster extractions.\n"
     ]
    },
    {
     "name": "stdout",
     "output_type": "stream",
     "text": [
      "Collecting package metadata (repodata.json): ...working... done\n",
      "Solving environment: ...working... done\n",
      "\n",
      "# All requested packages already installed.\n",
      "\n"
     ]
    },
    {
     "name": "stderr",
     "output_type": "stream",
     "text": [
      "WARNING conda.base.context:use_only_tar_bz2(632): Conda is constrained to only using the old .tar.bz2 file format because you have conda-build installed, and it is <3.18.3.  Update or remove conda-build to get smaller downloads and faster extractions.\n"
     ]
    },
    {
     "name": "stdout",
     "output_type": "stream",
     "text": [
      "Folium installed\n",
      "Libraries imported.\n"
     ]
    }
   ],
   "source": [
    "import requests # library to handle requests\n",
    "import pandas as pd # library for data analsysis\n",
    "import numpy as np # library to handle data in a vectorized manner\n",
    "import random # library for random number generation\n",
    "\n",
    "!conda install -c conda-forge geopy --yes \n",
    "from geopy.geocoders import Nominatim # module to convert an address into latitude and longitude values\n",
    "\n",
    "# libraries for displaying images\n",
    "from IPython.display import Image \n",
    "from IPython.core.display import HTML \n",
    "    \n",
    "# tranforming json file into a pandas dataframe library\n",
    "from pandas.io.json import json_normalize\n",
    "                                                            \n",
    "!conda install -c conda-forge folium=0.5.0 --yes\n",
    "import folium # plotting library\n",
    "\n",
    "print('Folium installed')\n",
    "print('Libraries imported.')"
   ]
  },
  {
   "cell_type": "markdown",
   "metadata": {},
   "source": [
    "__________________\n",
    "###### Initializing variables to be passed to the Foursquare API "
   ]
  },
  {
   "cell_type": "code",
   "execution_count": 2,
   "metadata": {},
   "outputs": [
    {
     "name": "stdout",
     "output_type": "stream",
     "text": [
      "Your credentails:\n",
      "CLIENT_ID: WZD0TXK450FDKF3OPPP4NJS5AZHYQNERPWK11Q3C311PGG3F\n",
      "CLIENT_SECRET:UXWCVABM3AMICU0W4IPGTIUBQIPC2KX5WIDUZFCUWBGGURD5\n"
     ]
    }
   ],
   "source": [
    "CLIENT_ID = 'WZD0TXK450FDKF3OPPP4NJS5AZHYQNERPWK11Q3C311PGG3F' # your Foursquare ID\n",
    "CLIENT_SECRET = 'UXWCVABM3AMICU0W4IPGTIUBQIPC2KX5WIDUZFCUWBGGURD5' # your Foursquare Secret\n",
    "VERSION = '20180604'\n",
    "\n",
    "print('Your credentails:')\n",
    "print('CLIENT_ID: ' + CLIENT_ID)\n",
    "print('CLIENT_SECRET:' + CLIENT_SECRET)"
   ]
  },
  {
   "cell_type": "markdown",
   "metadata": {},
   "source": [
    "___________________________________\n",
    "###### Get the Latitudes and Longitudes of the Area"
   ]
  },
  {
   "cell_type": "code",
   "execution_count": 121,
   "metadata": {},
   "outputs": [],
   "source": [
    "address = 'Mumbai, IN'\n",
    "\n",
    "geolocator = Nominatim(user_agent=\"foursquare_agent\")\n",
    "location = geolocator.geocode(address)\n",
    "latitude = location.latitude\n",
    "longitude = location.longitude"
   ]
  },
  {
   "cell_type": "markdown",
   "metadata": {},
   "source": [
    "*****************\n",
    "###### Making up the URL and setting up the Dataframe"
   ]
  },
  {
   "cell_type": "code",
   "execution_count": 141,
   "metadata": {},
   "outputs": [
    {
     "data": {
      "text/plain": [
       "'https://api.foursquare.com/v2/venues/search?client_id=WZD0TXK450FDKF3OPPP4NJS5AZHYQNERPWK11Q3C311PGG3F&client_secret=UXWCVABM3AMICU0W4IPGTIUBQIPC2KX5WIDUZFCUWBGGURD5&ll=18.9387711,72.8353355&v=20180604&query=food&radius=50000&limit=5000'"
      ]
     },
     "execution_count": 141,
     "metadata": {},
     "output_type": "execute_result"
    }
   ],
   "source": [
    "search_query = 'food'\n",
    "radius = 50000\n",
    "LIMIT = 5000\n",
    "url = 'https://api.foursquare.com/v2/venues/search?client_id={}&client_secret={}&ll={},{}&v={}&query={}&radius={}&limit={}'.format(CLIENT_ID, CLIENT_SECRET, latitude, longitude, VERSION, search_query, radius, LIMIT)\n",
    "url"
   ]
  },
  {
   "cell_type": "code",
   "execution_count": null,
   "metadata": {
    "scrolled": true
   },
   "outputs": [],
   "source": [
    "results = requests.get(url).json()\n",
    "results"
   ]
  },
  {
   "cell_type": "code",
   "execution_count": 143,
   "metadata": {
    "scrolled": true
   },
   "outputs": [
    {
     "data": {
      "text/html": [
       "<div>\n",
       "<style scoped>\n",
       "    .dataframe tbody tr th:only-of-type {\n",
       "        vertical-align: middle;\n",
       "    }\n",
       "\n",
       "    .dataframe tbody tr th {\n",
       "        vertical-align: top;\n",
       "    }\n",
       "\n",
       "    .dataframe thead th {\n",
       "        text-align: right;\n",
       "    }\n",
       "</style>\n",
       "<table border=\"1\" class=\"dataframe\">\n",
       "  <thead>\n",
       "    <tr style=\"text-align: right;\">\n",
       "      <th></th>\n",
       "      <th>categories</th>\n",
       "      <th>hasPerk</th>\n",
       "      <th>id</th>\n",
       "      <th>location.address</th>\n",
       "      <th>location.cc</th>\n",
       "      <th>location.city</th>\n",
       "      <th>location.country</th>\n",
       "      <th>location.crossStreet</th>\n",
       "      <th>location.distance</th>\n",
       "      <th>location.formattedAddress</th>\n",
       "      <th>location.labeledLatLngs</th>\n",
       "      <th>location.lat</th>\n",
       "      <th>location.lng</th>\n",
       "      <th>location.neighborhood</th>\n",
       "      <th>location.postalCode</th>\n",
       "      <th>location.state</th>\n",
       "      <th>name</th>\n",
       "      <th>referralId</th>\n",
       "      <th>venuePage.id</th>\n",
       "    </tr>\n",
       "  </thead>\n",
       "  <tbody>\n",
       "    <tr>\n",
       "      <th>0</th>\n",
       "      <td>[{'id': '4bf58dd8d48988d1c7941735', 'name': 'S...</td>\n",
       "      <td>False</td>\n",
       "      <td>5097a524498ecb7e5608a872</td>\n",
       "      <td>NaN</td>\n",
       "      <td>IN</td>\n",
       "      <td>NaN</td>\n",
       "      <td>India</td>\n",
       "      <td>NaN</td>\n",
       "      <td>217</td>\n",
       "      <td>[India]</td>\n",
       "      <td>[{'label': 'display', 'lat': 18.94072314746390...</td>\n",
       "      <td>18.940723</td>\n",
       "      <td>72.835401</td>\n",
       "      <td>NaN</td>\n",
       "      <td>NaN</td>\n",
       "      <td>NaN</td>\n",
       "      <td>Refresh Food Plaza, CST</td>\n",
       "      <td>v-1562101885</td>\n",
       "      <td>NaN</td>\n",
       "    </tr>\n",
       "    <tr>\n",
       "      <th>1</th>\n",
       "      <td>[{'id': '4bf58dd8d48988d16d941735', 'name': 'C...</td>\n",
       "      <td>False</td>\n",
       "      <td>4cfe22077f2db1f745873bd4</td>\n",
       "      <td>@Kitabkhana, Somaiya Bhavan</td>\n",
       "      <td>IN</td>\n",
       "      <td>Mumbai</td>\n",
       "      <td>India</td>\n",
       "      <td>45/47  Mahatma Gandhi Road, Fort</td>\n",
       "      <td>843</td>\n",
       "      <td>[@Kitabkhana, Somaiya Bhavan (45/47  Mahatma G...</td>\n",
       "      <td>[{'label': 'display', 'lat': 18.93203054810475...</td>\n",
       "      <td>18.932031</td>\n",
       "      <td>72.831667</td>\n",
       "      <td>NaN</td>\n",
       "      <td>400001</td>\n",
       "      <td>Mahārāshtra</td>\n",
       "      <td>Food for Thought</td>\n",
       "      <td>v-1562101885</td>\n",
       "      <td>33013527</td>\n",
       "    </tr>\n",
       "    <tr>\n",
       "      <th>2</th>\n",
       "      <td>[{'id': '50aa9e744b90af0d42d5de0e', 'name': 'H...</td>\n",
       "      <td>False</td>\n",
       "      <td>5a06b0a77269fe0a9a40b515</td>\n",
       "      <td>Mumbai Maharashtra 400078 India</td>\n",
       "      <td>IN</td>\n",
       "      <td>Mumbai</td>\n",
       "      <td>India</td>\n",
       "      <td>NaN</td>\n",
       "      <td>629</td>\n",
       "      <td>[Mumbai Maharashtra 400078 India, Mumbai 40007...</td>\n",
       "      <td>[{'label': 'display', 'lat': 18.93316157126705...</td>\n",
       "      <td>18.933162</td>\n",
       "      <td>72.834570</td>\n",
       "      <td>NaN</td>\n",
       "      <td>400078</td>\n",
       "      <td>Mahārāshtra</td>\n",
       "      <td>Food supplements online</td>\n",
       "      <td>v-1562101885</td>\n",
       "      <td>NaN</td>\n",
       "    </tr>\n",
       "    <tr>\n",
       "      <th>3</th>\n",
       "      <td>[{'id': '4d4b7105d754a06374d81259', 'name': 'F...</td>\n",
       "      <td>False</td>\n",
       "      <td>4e6a0ba5483bf2d9e609c9ac</td>\n",
       "      <td>NaN</td>\n",
       "      <td>IN</td>\n",
       "      <td>Mumbai</td>\n",
       "      <td>India</td>\n",
       "      <td>NaN</td>\n",
       "      <td>364</td>\n",
       "      <td>[Mumbai, Mahārāshtra, India]</td>\n",
       "      <td>[{'label': 'display', 'lat': 18.94197843351325...</td>\n",
       "      <td>18.941978</td>\n",
       "      <td>72.834649</td>\n",
       "      <td>NaN</td>\n",
       "      <td>NaN</td>\n",
       "      <td>Mahārāshtra</td>\n",
       "      <td>Times Food Court</td>\n",
       "      <td>v-1562101885</td>\n",
       "      <td>NaN</td>\n",
       "    </tr>\n",
       "    <tr>\n",
       "      <th>4</th>\n",
       "      <td>[{'id': '4bf58dd8d48988d124941735', 'name': 'O...</td>\n",
       "      <td>False</td>\n",
       "      <td>53803a2d498e5da6507c877d</td>\n",
       "      <td>NaN</td>\n",
       "      <td>IN</td>\n",
       "      <td>NaN</td>\n",
       "      <td>India</td>\n",
       "      <td>NaN</td>\n",
       "      <td>366</td>\n",
       "      <td>[India]</td>\n",
       "      <td>[{'label': 'display', 'lat': 18.94195069611220...</td>\n",
       "      <td>18.941951</td>\n",
       "      <td>72.834451</td>\n",
       "      <td>NaN</td>\n",
       "      <td>NaN</td>\n",
       "      <td>NaN</td>\n",
       "      <td>BBC Good Food Magazine</td>\n",
       "      <td>v-1562101885</td>\n",
       "      <td>NaN</td>\n",
       "    </tr>\n",
       "  </tbody>\n",
       "</table>\n",
       "</div>"
      ],
      "text/plain": [
       "                                          categories  hasPerk  \\\n",
       "0  [{'id': '4bf58dd8d48988d1c7941735', 'name': 'S...    False   \n",
       "1  [{'id': '4bf58dd8d48988d16d941735', 'name': 'C...    False   \n",
       "2  [{'id': '50aa9e744b90af0d42d5de0e', 'name': 'H...    False   \n",
       "3  [{'id': '4d4b7105d754a06374d81259', 'name': 'F...    False   \n",
       "4  [{'id': '4bf58dd8d48988d124941735', 'name': 'O...    False   \n",
       "\n",
       "                         id                 location.address location.cc  \\\n",
       "0  5097a524498ecb7e5608a872                              NaN          IN   \n",
       "1  4cfe22077f2db1f745873bd4      @Kitabkhana, Somaiya Bhavan          IN   \n",
       "2  5a06b0a77269fe0a9a40b515  Mumbai Maharashtra 400078 India          IN   \n",
       "3  4e6a0ba5483bf2d9e609c9ac                              NaN          IN   \n",
       "4  53803a2d498e5da6507c877d                              NaN          IN   \n",
       "\n",
       "  location.city location.country              location.crossStreet  \\\n",
       "0           NaN            India                               NaN   \n",
       "1        Mumbai            India  45/47  Mahatma Gandhi Road, Fort   \n",
       "2        Mumbai            India                               NaN   \n",
       "3        Mumbai            India                               NaN   \n",
       "4           NaN            India                               NaN   \n",
       "\n",
       "   location.distance                          location.formattedAddress  \\\n",
       "0                217                                            [India]   \n",
       "1                843  [@Kitabkhana, Somaiya Bhavan (45/47  Mahatma G...   \n",
       "2                629  [Mumbai Maharashtra 400078 India, Mumbai 40007...   \n",
       "3                364                       [Mumbai, Mahārāshtra, India]   \n",
       "4                366                                            [India]   \n",
       "\n",
       "                             location.labeledLatLngs  location.lat  \\\n",
       "0  [{'label': 'display', 'lat': 18.94072314746390...     18.940723   \n",
       "1  [{'label': 'display', 'lat': 18.93203054810475...     18.932031   \n",
       "2  [{'label': 'display', 'lat': 18.93316157126705...     18.933162   \n",
       "3  [{'label': 'display', 'lat': 18.94197843351325...     18.941978   \n",
       "4  [{'label': 'display', 'lat': 18.94195069611220...     18.941951   \n",
       "\n",
       "   location.lng location.neighborhood location.postalCode location.state  \\\n",
       "0     72.835401                   NaN                 NaN            NaN   \n",
       "1     72.831667                   NaN              400001    Mahārāshtra   \n",
       "2     72.834570                   NaN              400078    Mahārāshtra   \n",
       "3     72.834649                   NaN                 NaN    Mahārāshtra   \n",
       "4     72.834451                   NaN                 NaN            NaN   \n",
       "\n",
       "                      name    referralId venuePage.id  \n",
       "0  Refresh Food Plaza, CST  v-1562101885          NaN  \n",
       "1         Food for Thought  v-1562101885     33013527  \n",
       "2  Food supplements online  v-1562101885          NaN  \n",
       "3         Times Food Court  v-1562101885          NaN  \n",
       "4   BBC Good Food Magazine  v-1562101885          NaN  "
      ]
     },
     "execution_count": 143,
     "metadata": {},
     "output_type": "execute_result"
    }
   ],
   "source": [
    "# assign relevant part of JSON to venues\n",
    "venues = results['response']['venues']\n",
    "\n",
    "# tranform venues into a dataframe\n",
    "dataframe = json_normalize(venues)\n",
    "dataframe.head()"
   ]
  },
  {
   "cell_type": "markdown",
   "metadata": {},
   "source": [
    "********************\n",
    "###### Cleaning the DataFrame further"
   ]
  },
  {
   "cell_type": "code",
   "execution_count": 144,
   "metadata": {},
   "outputs": [
    {
     "data": {
      "text/plain": [
       "(50, 16)"
      ]
     },
     "execution_count": 144,
     "metadata": {},
     "output_type": "execute_result"
    }
   ],
   "source": [
    "filtered_columns = ['name', 'categories'] + [col for col in dataframe.columns if col.startswith('location.')] + ['id']\n",
    "dataframe_filtered = dataframe.loc[:, filtered_columns]\n",
    "\n",
    "# function that extracts the category of the venue\n",
    "def get_category_type(row):\n",
    "    try:\n",
    "        categories_list = row['categories']\n",
    "    except:\n",
    "        categories_list = row['venue.categories']\n",
    "        \n",
    "    if len(categories_list) == 0:\n",
    "        return None\n",
    "    else:\n",
    "        return categories_list[0]['name']\n",
    "\n",
    "# filter the category for each row\n",
    "dataframe_filtered['categories'] = dataframe_filtered.apply(get_category_type, axis=1)\n",
    "\n",
    "# clean column names by keeping only last term\n",
    "dataframe_filtered.columns = [column.split('.')[-1] for column in dataframe_filtered.columns]\n",
    "\n",
    "dataframe_filtered.shape"
   ]
  },
  {
   "cell_type": "code",
   "execution_count": 145,
   "metadata": {},
   "outputs": [],
   "source": [
    "dataframe_filtered = dataframe_filtered[['name', 'lat', 'lng', 'id']]"
   ]
  },
  {
   "cell_type": "code",
   "execution_count": 146,
   "metadata": {
    "scrolled": true
   },
   "outputs": [],
   "source": [
    "#dataframe_filtered = dataframe_filtered.dropna()\n",
    "data = dataframe_filtered"
   ]
  },
  {
   "cell_type": "markdown",
   "metadata": {},
   "source": [
    "*************\n",
    "###### Creating the final MAP which will be used for Figuring out our goal"
   ]
  },
  {
   "cell_type": "code",
   "execution_count": 147,
   "metadata": {
    "scrolled": false
   },
   "outputs": [
    {
     "data": {
      "text/html": [
       "<div style=\"width:100%;\"><div style=\"position:relative;width:100%;height:0;padding-bottom:60%;\"><iframe src=\"data:text/html;charset=utf-8;base64,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\" style=\"position:absolute;width:100%;height:100%;left:0;top:0;border:none !important;\" allowfullscreen webkitallowfullscreen mozallowfullscreen></iframe></div></div>"
      ],
      "text/plain": [
       "<folium.folium.Map at 0x21b115c7898>"
      ]
     },
     "execution_count": 147,
     "metadata": {},
     "output_type": "execute_result"
    }
   ],
   "source": [
    "# create map of New York using latitude and longitude values\n",
    "map_mumbai = folium.Map(location=[latitude, longitude], zoom_start=10)\n",
    "\n",
    "# add markers to map\n",
    "for lat, lng, label_ in zip(data['lat'], data['lng'], data['name']):\n",
    "    label_ = folium.Popup(label_, parse_html=True)\n",
    "    folium.CircleMarker(\n",
    "        [lat, lng],\n",
    "        radius=5,\n",
    "        popup=label_,\n",
    "        color='blue',\n",
    "        fill=True,\n",
    "        fill_color='#3186cc',\n",
    "        fill_opacity=0.7,\n",
    "        parse_html=False).add_to(map_mumbai)  \n",
    "    \n",
    "map_mumbai"
   ]
  },
  {
   "cell_type": "code",
   "execution_count": null,
   "metadata": {},
   "outputs": [],
   "source": []
  }
 ],
 "metadata": {
  "kernelspec": {
   "display_name": "Python 3",
   "language": "python",
   "name": "python3"
  },
  "language_info": {
   "codemirror_mode": {
    "name": "ipython",
    "version": 3
   },
   "file_extension": ".py",
   "mimetype": "text/x-python",
   "name": "python",
   "nbconvert_exporter": "python",
   "pygments_lexer": "ipython3",
   "version": "3.7.3"
  }
 },
 "nbformat": 4,
 "nbformat_minor": 2
}
